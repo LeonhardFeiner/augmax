{
 "cells": [
  {
   "cell_type": "code",
   "execution_count": 1,
   "id": "ac4435fc",
   "metadata": {},
   "outputs": [],
   "source": [
    "import jax\n",
    "import jax.numpy as jnp"
   ]
  },
  {
   "cell_type": "code",
   "execution_count": 5,
   "id": "19e21de4",
   "metadata": {
    "scrolled": true
   },
   "outputs": [
    {
     "data": {
      "text/plain": [
       "DeviceArray([ 0.48309308, -1.1981592 , -0.7775587 ,  1.2407155 ,\n",
       "             -2.313012  ], dtype=float32)"
      ]
     },
     "execution_count": 5,
     "metadata": {},
     "output_type": "execute_result"
    }
   ],
   "source": [
    "key = jax.random.PRNGKey(42)\n",
    "subkeys = jax.random.split(key, 5)\n",
    "jax.vmap(jax.random.normal)(subkeys)"
   ]
  },
  {
   "cell_type": "code",
   "execution_count": 7,
   "id": "aa11d4be",
   "metadata": {},
   "outputs": [
    {
     "data": {
      "text/plain": [
       "DeviceArray([ 0.6122652,  1.1225883, -0.8544134, -0.8127325, -0.890405 ],            dtype=float32)"
      ]
     },
     "execution_count": 7,
     "metadata": {},
     "output_type": "execute_result"
    }
   ],
   "source": [
    "jax.random.normal(key, [5])"
   ]
  },
  {
   "cell_type": "code",
   "execution_count": 9,
   "id": "8bc5fcdf",
   "metadata": {},
   "outputs": [],
   "source": [
    "import torch\n",
    "import torch.nn as nn"
   ]
  },
  {
   "cell_type": "code",
   "execution_count": 16,
   "id": "eb7cdf7b",
   "metadata": {},
   "outputs": [],
   "source": [
    "net = nn.Sequential(\n",
    "    nn.Conv2d(1, 1, 3), nn.Conv2d(1, 1, 3), nn.MaxPool2d(2),\n",
    "    nn.Conv2d(1, 1, 3), nn.Conv2d(1, 1, 3), nn.MaxPool2d(2),\n",
    "    nn.Conv2d(1, 1, 3), nn.Conv2d(1, 1, 3), nn.MaxPool2d(2),\n",
    "    nn.Conv2d(1, 1, 3)\n",
    ")"
   ]
  },
  {
   "cell_type": "code",
   "execution_count": 17,
   "id": "9c4797f8",
   "metadata": {},
   "outputs": [
    {
     "data": {
      "text/plain": [
       "torch.Size([1, 1, 12, 12])"
      ]
     },
     "execution_count": 17,
     "metadata": {},
     "output_type": "execute_result"
    }
   ],
   "source": [
    "img = torch.zeros(1, 1, 128, 128)\n",
    "net(img).shape"
   ]
  },
  {
   "cell_type": "code",
   "execution_count": null,
   "id": "c508c156",
   "metadata": {},
   "outputs": [],
   "source": []
  }
 ],
 "metadata": {
  "kernelspec": {
   "display_name": "Python 3",
   "language": "python",
   "name": "python3"
  },
  "language_info": {
   "codemirror_mode": {
    "name": "ipython",
    "version": 3
   },
   "file_extension": ".py",
   "mimetype": "text/x-python",
   "name": "python",
   "nbconvert_exporter": "python",
   "pygments_lexer": "ipython3",
   "version": "3.9.6"
  }
 },
 "nbformat": 4,
 "nbformat_minor": 5
}
